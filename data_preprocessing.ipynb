{
 "cells": [
  {
   "cell_type": "code",
   "execution_count": 1,
   "id": "3923d359-ba96-40ef-aabf-4a4238f33e8e",
   "metadata": {
    "tags": []
   },
   "outputs": [
    {
     "name": "stdout",
     "output_type": "stream",
     "text": [
      "Defaulting to user installation because normal site-packages is not writeable\n",
      "Requirement already satisfied: pandas in /home/software/anaconda3/2023.07/lib/python3.11/site-packages (1.5.3)\n",
      "Requirement already satisfied: opencv-python in /home/menaf/.local/lib/python3.11/site-packages (4.9.0.80)\n",
      "Requirement already satisfied: numpy in /home/software/anaconda3/2023.07/lib/python3.11/site-packages (1.24.3)\n",
      "Requirement already satisfied: matplotlib in /home/software/anaconda3/2023.07/lib/python3.11/site-packages (3.7.1)\n",
      "Requirement already satisfied: scikit-learn in /home/software/anaconda3/2023.07/lib/python3.11/site-packages (1.2.2)\n",
      "Requirement already satisfied: Pillow in /home/software/anaconda3/2023.07/lib/python3.11/site-packages (9.4.0)\n",
      "Requirement already satisfied: python-dateutil>=2.8.1 in /home/software/anaconda3/2023.07/lib/python3.11/site-packages (from pandas) (2.8.2)\n",
      "Requirement already satisfied: pytz>=2020.1 in /home/software/anaconda3/2023.07/lib/python3.11/site-packages (from pandas) (2022.7)\n",
      "Requirement already satisfied: contourpy>=1.0.1 in /home/software/anaconda3/2023.07/lib/python3.11/site-packages (from matplotlib) (1.0.5)\n",
      "Requirement already satisfied: cycler>=0.10 in /home/software/anaconda3/2023.07/lib/python3.11/site-packages (from matplotlib) (0.11.0)\n",
      "Requirement already satisfied: fonttools>=4.22.0 in /home/software/anaconda3/2023.07/lib/python3.11/site-packages (from matplotlib) (4.25.0)\n",
      "Requirement already satisfied: kiwisolver>=1.0.1 in /home/software/anaconda3/2023.07/lib/python3.11/site-packages (from matplotlib) (1.4.4)\n",
      "Requirement already satisfied: packaging>=20.0 in /home/software/anaconda3/2023.07/lib/python3.11/site-packages (from matplotlib) (23.0)\n",
      "Requirement already satisfied: pyparsing>=2.3.1 in /home/software/anaconda3/2023.07/lib/python3.11/site-packages (from matplotlib) (3.0.9)\n",
      "Requirement already satisfied: scipy>=1.3.2 in /home/software/anaconda3/2023.07/lib/python3.11/site-packages (from scikit-learn) (1.10.1)\n",
      "Requirement already satisfied: joblib>=1.1.1 in /home/software/anaconda3/2023.07/lib/python3.11/site-packages (from scikit-learn) (1.2.0)\n",
      "Requirement already satisfied: threadpoolctl>=2.0.0 in /home/software/anaconda3/2023.07/lib/python3.11/site-packages (from scikit-learn) (2.2.0)\n",
      "Requirement already satisfied: six>=1.5 in /home/software/anaconda3/2023.07/lib/python3.11/site-packages (from python-dateutil>=2.8.1->pandas) (1.16.0)\n"
     ]
    }
   ],
   "source": [
    "!pip3 install pandas opencv-python numpy matplotlib scikit-learn Pillow"
   ]
  },
  {
   "cell_type": "code",
   "execution_count": 3,
   "id": "de52ee31-4694-4b94-80f9-13f779c37b7f",
   "metadata": {
    "tags": []
   },
   "outputs": [
    {
     "name": "stderr",
     "output_type": "stream",
     "text": [
      "/home/menaf/.local/lib/python3.11/site-packages/pandas/core/arrays/masked.py:60: UserWarning: Pandas requires version '1.3.6' or newer of 'bottleneck' (version '1.3.5' currently installed).\n",
      "  from pandas.core import (\n"
     ]
    }
   ],
   "source": [
    "# %load_ext cudf.pandas\n",
    "import pandas as pd\n",
    "# import cudf as pd\n",
    "from matplotlib import pyplot as plt"
   ]
  },
  {
   "cell_type": "code",
   "execution_count": 4,
   "id": "22b76416-875d-422a-aa00-5ed996653c38",
   "metadata": {
    "tags": []
   },
   "outputs": [],
   "source": [
    "dataset_path = \"./raw_data/\"\n",
    "\n",
    "train_cats_df = pd.read_csv(dataset_path + \"train/categories.csv\")\n",
    "train_df = pd.read_csv(dataset_path + \"train/train_labels.csv\")\n",
    "\n",
    "test_cats_df = pd.read_csv(dataset_path + \"test/categories.csv\")\n",
    "# test_df = pd.read_csv(dataset_path + \"test/test_labels.csv\")"
   ]
  },
  {
   "cell_type": "code",
   "execution_count": 5,
   "id": "44cb2103-08f1-41e9-b5b7-5e53bc24fa01",
   "metadata": {
    "tags": []
   },
   "outputs": [
    {
     "name": "stdout",
     "output_type": "stream",
     "text": [
      "                 image_name  \\\n",
      "0                    00.png   \n",
      "1                    01.png   \n",
      "2                    02.png   \n",
      "3                    03.png   \n",
      "4                    04.png   \n",
      "...                     ...   \n",
      "2143  3dom_fbk_img_1554.png   \n",
      "2144           img_0257.png   \n",
      "2145  3dom_fbk_img_1538.png   \n",
      "2146           img_0182.png   \n",
      "2147           img_0055.png   \n",
      "\n",
      "                                        rotation_matrix  \\\n",
      "0     0.999017467386748;-0.01951432487219089;0.03979...   \n",
      "1     0.999147719991382;-0.021624129414769648;0.0351...   \n",
      "2     0.9992527616183833;-0.02402019259931326;0.0302...   \n",
      "3     0.9993946226667176;-0.02356062921667625;0.0255...   \n",
      "4     0.9995276708105233;-0.02256816267742356;0.0208...   \n",
      "...                                                 ...   \n",
      "2143  0.01591948448470304;-0.9942358284779308;0.1060...   \n",
      "2144  0.7798812386299148;-0.11966528279975605;-0.614...   \n",
      "2145  0.212343457025313;-0.9771913266348059;-0.00271...   \n",
      "2146  0.9949298086968184;-0.025133801870663264;0.097...   \n",
      "2147  0.7856640336507601;0.06405952903388078;0.61532...   \n",
      "\n",
      "                                     translation_vector  \\\n",
      "0     -0.011700149127917355;0.018812528601332625;0.3...   \n",
      "1     -0.011610785964818585;0.016710808069866724;0.3...   \n",
      "2     -0.011589797430545654;0.014113680489915202;0.3...   \n",
      "3     -0.011471598819000773;0.011325953000912126;0.3...   \n",
      "4     -0.011389007765655301;0.008237801582322509;0.3...   \n",
      "...                                                 ...   \n",
      "2143  4.210366452845919;3.6889779999757972;13.996046...   \n",
      "2144  5.324959411151901;-1.1477821619213906;18.44637...   \n",
      "2145  2.4197481771662037;-1.5059153783557069;9.23436...   \n",
      "2146  3.7150058927063077;-3.918144148659411;35.11529...   \n",
      "2147  -1.3855356886340602;2.258165398925688;38.10900...   \n",
      "\n",
      "                                     calibration_matrix               dataset  \\\n",
      "0     5809.066058292364;0.0;2496.9582994472266;0.0;5...  transp_obj_glass_cup   \n",
      "1     5809.066058292364;0.0;2496.9582994472266;0.0;5...  transp_obj_glass_cup   \n",
      "2     5809.066058292364;0.0;2496.9582994472266;0.0;5...  transp_obj_glass_cup   \n",
      "3     5809.066058292364;0.0;2496.9582994472266;0.0;5...  transp_obj_glass_cup   \n",
      "4     5809.066058292364;0.0;2496.9582994472266;0.0;5...  transp_obj_glass_cup   \n",
      "...                                                 ...                   ...   \n",
      "2143                0.0;0.0;0.0;0.0;0.0;0.0;0.0;0.0;0.0              dioscuri   \n",
      "2144                0.0;0.0;0.0;0.0;0.0;0.0;0.0;0.0;0.0              dioscuri   \n",
      "2145                0.0;0.0;0.0;0.0;0.0;0.0;0.0;0.0;0.0              dioscuri   \n",
      "2146                0.0;0.0;0.0;0.0;0.0;0.0;0.0;0.0;0.0              dioscuri   \n",
      "2147                0.0;0.0;0.0;0.0;0.0;0.0;0.0;0.0;0.0              dioscuri   \n",
      "\n",
      "                     scene  \n",
      "0     transp_obj_glass_cup  \n",
      "1     transp_obj_glass_cup  \n",
      "2     transp_obj_glass_cup  \n",
      "3     transp_obj_glass_cup  \n",
      "4     transp_obj_glass_cup  \n",
      "...                    ...  \n",
      "2143              dioscuri  \n",
      "2144              dioscuri  \n",
      "2145              dioscuri  \n",
      "2146              dioscuri  \n",
      "2147              dioscuri  \n",
      "\n",
      "[2148 rows x 6 columns]\n"
     ]
    }
   ],
   "source": [
    "print(train_df)"
   ]
  },
  {
   "cell_type": "code",
   "execution_count": 6,
   "id": "44eacdd9-b1d1-4646-a230-f38bbfdabe6d",
   "metadata": {
    "tags": []
   },
   "outputs": [
    {
     "name": "stdout",
     "output_type": "stream",
     "text": [
      "<pandas.core.groupby.generic.DataFrameGroupBy object at 0x2aab16d67ed0>\n"
     ]
    }
   ],
   "source": [
    "grouped_train_df = train_df.groupby(\"dataset\")\n",
    "print(grouped_train_df)"
   ]
  },
  {
   "cell_type": "code",
   "execution_count": 8,
   "id": "29625475-e0d9-42d2-9668-401ffa954888",
   "metadata": {},
   "outputs": [
    {
     "name": "stdout",
     "output_type": "stream",
     "text": [
      "Grouping: church\n",
      "12100\n",
      "110\n",
      "Grouping: dioscuri\n",
      "4900\n",
      "70\n",
      "Grouping: lizard\n",
      "505521\n",
      "711\n",
      "Grouping: multi-temporal-temple-baalshamin\n",
      "4624\n",
      "68\n",
      "Grouping: pond\n",
      "1247689\n",
      "1117\n",
      "Grouping: transp_obj_glass_cup\n",
      "1296\n",
      "36\n",
      "Grouping: transp_obj_glass_cylinder\n",
      "1296\n",
      "36\n",
      "Total Pairs:  1777426\n"
     ]
    }
   ],
   "source": [
    "from itertools import product\n",
    "# creating a new dataset with pairwise images and relative extrinsics\n",
    "# a pair with image A, B, extrinsics K_a, K_b will follow this convention\n",
    "\n",
    "# A -> B (image 1: A, image 2: B), K_rel = K_b - K_a (rel extrinsics to get you from A to B)\n",
    "# B -> A vice versa\n",
    "group_rows = {}\n",
    "\n",
    "def construct_pair(r1, r2):\n",
    "    attrs = (r1.index.to_list())\n",
    "    combined_row = {}\n",
    "    for attr in attrs:\n",
    "        if attr not in [\"dataset\", \"scene\"]:\n",
    "            combined_row[attr + \"_1\"] = r1[attr]\n",
    "            combined_row[attr + \"_2\"] = r2[attr]\n",
    "        else:\n",
    "            combined_row[attr] = r1[attr]\n",
    "            \n",
    "    return combined_row\n",
    "\n",
    "all_pairs = []\n",
    "for group_name, group in grouped_train_df:\n",
    "    print(f\"Grouping: {group_name}\")\n",
    "    \n",
    "    group_rows = [group.iloc[i] for i in range(len(group))]\n",
    "    pairs = list(product(group_rows, repeat=2))\n",
    "    for r1, r2 in pairs:\n",
    "        # print(r1, r2)\n",
    "        \n",
    "        pair = construct_pair(r1, r2)\n",
    "        all_pairs.append(pair)\n",
    "    print(len(pairs))\n",
    "    print(len(group))\n",
    "    \n",
    "    \n",
    "print(\"Total Pairs: \", len(all_pairs))"
   ]
  },
  {
   "cell_type": "code",
   "execution_count": 9,
   "id": "c8d632f0-3d4e-4fc3-88bd-2593c1df6478",
   "metadata": {},
   "outputs": [],
   "source": [
    "final_df = pd.DataFrame(all_pairs)"
   ]
  },
  {
   "cell_type": "code",
   "execution_count": 10,
   "id": "fd33d76a-3f9c-4b27-a476-e9bc4ca569aa",
   "metadata": {},
   "outputs": [
    {
     "name": "stdout",
     "output_type": "stream",
     "text": [
      "Index(['image_name_1', 'image_name_2', 'rotation_matrix_1',\n",
      "       'rotation_matrix_2', 'translation_vector_1', 'translation_vector_2',\n",
      "       'calibration_matrix_1', 'calibration_matrix_2', 'dataset', 'scene'],\n",
      "      dtype='object')\n"
     ]
    }
   ],
   "source": [
    "import numpy as np\n",
    "# calculating relative camera extrinsics\n",
    "\n",
    "def get_relative_extrinsics(R1, R2, T1, T2):\n",
    "\tmat1 = np.hstack((R1, T1))\n",
    "\tmat1 = np.concatenate((mat1, np.array([[0, 0, 0, 1]])))\n",
    "\n",
    "\tmat2 = np.hstack((R2.T, -R2.T @ T2))\n",
    "\tmat2 = np.concatenate((mat2, np.array([[0, 0, 0, 1]])))\n",
    "\n",
    "\tfinal = mat1 @ mat2\n",
    "\treturn final\n",
    "\t# R_rel = final[:3, :3]\n",
    "\t# T_rel = final[:3, 3]\n",
    "\t# return \n",
    "\n",
    "print(final_df.columns)\n",
    "def get_relative_extrinsics_from_row(row):\n",
    "\tR1 = np.array(row[\"rotation_matrix_1\"].split(\";\"), dtype=np.float32).reshape(3, 3)\n",
    "\tR2 = np.array(row[\"rotation_matrix_2\"].split(\";\"), dtype=np.float32).reshape(3, 3)\n",
    "\t\n",
    "\tT1 = np.array(row[\"translation_vector_1\"].split(\";\"), dtype=np.float32).reshape(3,1)\n",
    "\tT2 = np.array(row[\"translation_vector_2\"].split(\";\"), dtype=np.float32).reshape(3,1)\n",
    "\treturn get_relative_extrinsics(R1, R2, T1, T2)\n"
   ]
  },
  {
   "cell_type": "code",
   "execution_count": 11,
   "id": "95deeffe",
   "metadata": {},
   "outputs": [],
   "source": [
    "# !pip install \\\n",
    "#     --extra-index-url=https://pypi.nvidia.com \\\n",
    "#     cudf-cu11==24.4.* dask-cudf-cu11==24.4.* cuml-cu11==24.4.* \\\n",
    "#     cugraph-cu11==24.4.* cuspatial-cu11==24.4.* cuproj-cu11==24.4.* \\\n",
    "#     cuxfilter-cu11==24.4.* cucim-cu11==24.4.* pylibraft-cu11==24.4.* \\\n",
    "#     raft-dask-cu11==24.4.* cuvs-cu11==24.4.*"
   ]
  },
  {
   "cell_type": "code",
   "execution_count": 12,
   "id": "00b8e4c5",
   "metadata": {},
   "outputs": [
    {
     "name": "stdout",
     "output_type": "stream",
     "text": [
      "0          [[1.0000000162967462, -3.074028143146279e-09, ...\n",
      "1          [[-0.08756732734125183, 0.11335737261337897, 0...\n",
      "2          [[0.5954032970502479, 0.4028578703572556, 0.69...\n",
      "3          [[0.9919287498048313, 0.006586841193185311, -0...\n",
      "4          [[0.36703325231942685, 0.49121953173173516, 0....\n",
      "                                 ...                        \n",
      "1777421    [[0.9980171979564142, 0.06114615018315134, -0....\n",
      "1777422    [[0.9988630238350997, 0.045077481379170725, -0...\n",
      "1777423    [[0.9994945817143017, 0.029038827083638585, -0...\n",
      "1777424    [[0.999878518314532, 0.013755256597761667, -0....\n",
      "1777425    [[0.9999999495562844, 6.18392004270163e-11, -4...\n",
      "Name: relative_extrinsics, Length: 1777426, dtype: object\n"
     ]
    }
   ],
   "source": [
    "# import cudf\n",
    "\n",
    "# final_cudf = cudf.DataFrame.from_pandas(final_df)\n",
    "final_df['relative_extrinsics'] = final_df.apply(get_relative_extrinsics_from_row, axis=1)\n",
    "print(final_df[\"relative_extrinsics\"])"
   ]
  },
  {
   "cell_type": "code",
   "execution_count": 14,
   "id": "62dbef51",
   "metadata": {},
   "outputs": [],
   "source": [
    "# save the newly created dataset into a directly called paired_dataset\n",
    "final_df.to_csv(\"./preprocessed_data/paired_dataset.csv\", index=False)"
   ]
  }
 ],
 "metadata": {
  "kernelspec": {
   "display_name": "Python 3 (ipykernel)",
   "language": "python",
   "name": "python3"
  },
  "language_info": {
   "codemirror_mode": {
    "name": "ipython",
    "version": 3
   },
   "file_extension": ".py",
   "mimetype": "text/x-python",
   "name": "python",
   "nbconvert_exporter": "python",
   "pygments_lexer": "ipython3",
   "version": "3.11.3"
  }
 },
 "nbformat": 4,
 "nbformat_minor": 5
}
